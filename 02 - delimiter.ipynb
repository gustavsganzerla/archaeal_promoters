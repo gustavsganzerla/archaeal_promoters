{
 "cells": [
  {
   "cell_type": "code",
   "execution_count": 3,
   "id": "15fb935a",
   "metadata": {},
   "outputs": [],
   "source": [
    "import os\n",
    "\n",
    "path = '/Users/gustavosganzerla/Documents/arp/sequences/rsat_upstream_sequences/core_promoters/physical_analysis/'\n",
    "path_out = '/Users/gustavosganzerla/Documents/arp/sequences/rsat_upstream_sequences/core_promoters/physical_analysis/lines/'\n",
    "\n",
    "\n",
    "filenames = os.listdir(path)\n",
    "\n",
    "\n",
    "for item in filenames:\n",
    "\tif '.txt' in item:\n",
    "\t\t\n",
    "\t\twith open(path+item) as file:\n",
    "\t\t\tvetor_dados= file.readlines() #jogar o arquivo de entrada para uma lista\n",
    "\t\t\tvetor_dados = [line3.strip() for line3 in vetor_dados]#retira o \\n da lista\n",
    "\t\n",
    "\t\t\tx=0\n",
    "\t\t\tfor element in vetor_dados:\n",
    "\t\t\t\twith open(path_out+\"line_\"+item, 'a+') as out:\n",
    "\t\t\t\t\tout.write(str(element)+\"\\t\")\n",
    "\t\t\t\t\tx+=1\n",
    "\t\t\t\t\t\n",
    "\t\n",
    "\t\t\t\t\tif x==99:\n",
    "\t\t\t\t\t\tout.write(\"\\n\")\n",
    "\t\t\t\t\t\tx=0"
   ]
  }
 ],
 "metadata": {
  "kernelspec": {
   "display_name": "p3workshop",
   "language": "python",
   "name": "p3workshop"
  },
  "language_info": {
   "codemirror_mode": {
    "name": "ipython",
    "version": 3
   },
   "file_extension": ".py",
   "mimetype": "text/x-python",
   "name": "python",
   "nbconvert_exporter": "python",
   "pygments_lexer": "ipython3",
   "version": "3.7.13"
  }
 },
 "nbformat": 4,
 "nbformat_minor": 5
}
