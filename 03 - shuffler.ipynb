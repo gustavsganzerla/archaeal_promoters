{
 "cells": [
  {
   "cell_type": "code",
   "execution_count": 15,
   "id": "e88661b5",
   "metadata": {},
   "outputs": [],
   "source": [
    "import random\n",
    "\n",
    "file = open(\"/Users/gustavosganzerla/Documents/arp/sequences/annotated_promoters/t_pendens.txt\", 'r')\n",
    "out = open(\"/Users/gustavosganzerla/Documents/arp/sequences/annotated_promoters/shuffled_t_pendens.txt\", 'w')\n",
    "\n",
    "vetor_dados = file.readlines()\n",
    "vetor_dados = [line3.strip() for line3 in vetor_dados]\n",
    "\n",
    "shuffled_seqs = []\n",
    "for item in vetor_dados:\n",
    "    charlst = list(item)\n",
    "    random.shuffle(charlst)\n",
    "    new_item = ''.join(charlst)\n",
    "    \n",
    "    shuffled_seqs.append(new_item)\n",
    "    \n",
    "\n",
    "for item in shuffled_seqs:\n",
    "    out.write(item+\"\\n\")"
   ]
  }
 ],
 "metadata": {
  "kernelspec": {
   "display_name": "p3workshop",
   "language": "python",
   "name": "p3workshop"
  },
  "language_info": {
   "codemirror_mode": {
    "name": "ipython",
    "version": 3
   },
   "file_extension": ".py",
   "mimetype": "text/x-python",
   "name": "python",
   "nbconvert_exporter": "python",
   "pygments_lexer": "ipython3",
   "version": "3.7.13"
  }
 },
 "nbformat": 4,
 "nbformat_minor": 5
}
